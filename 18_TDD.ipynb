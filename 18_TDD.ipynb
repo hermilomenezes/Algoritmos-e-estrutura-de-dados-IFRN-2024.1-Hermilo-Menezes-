{
  "nbformat": 4,
  "nbformat_minor": 0,
  "metadata": {
    "colab": {
      "provenance": [],
      "authorship_tag": "ABX9TyPSIoOVWEqUSbXPFa4FOWPS",
      "include_colab_link": true
    },
    "kernelspec": {
      "name": "python3",
      "display_name": "Python 3"
    },
    "language_info": {
      "name": "python"
    }
  },
  "cells": [
    {
      "cell_type": "markdown",
      "metadata": {
        "id": "view-in-github",
        "colab_type": "text"
      },
      "source": [
        "<a href=\"https://colab.research.google.com/github/hermilomenezes/Algoritmos-e-estrutura-de-dados-IFRN-2024.1-Hermilo-Menezes-/blob/main/18_TDD.ipynb\" target=\"_parent\"><img src=\"https://colab.research.google.com/assets/colab-badge.svg\" alt=\"Open In Colab\"/></a>"
      ]
    },
    {
      "cell_type": "code",
      "execution_count": null,
      "metadata": {
        "id": "zoc0Adz8f5zz"
      },
      "outputs": [],
      "source": [
        "#TDD - o Test-Driven Development (TDD), ou Desenvolvimento orientado a testes,\n",
        "#É uma metodologia de desenvolvimento de software que enfatiza a criação e\n",
        "#Execução de testes antes mesmo do desenvolvimento do código\n",
        "\n",
        "#Programa para avaliar a saída de uma função dado uma entrada\n",
        "import random\n",
        "\n",
        "#Esqueleto de uma função para gerar uma lista de 28 números aleatórios, entre 1 e 100\n",
        "def gerar_lista_aleatoria():\n",
        "  pass\n",
        "\n",
        "#esqueleto de uma função para gerar uma lista de 28 números aleatórios distintos entre 1 e 100\n",
        "def gerar_lista_aleatoria_distintos():\n",
        "  pass\n",
        "\n",
        "#Esqueleto de uma função para embaralhar a lista\n",
        "def embralhar_lista():\n",
        "  pass"
      ]
    }
  ]
}