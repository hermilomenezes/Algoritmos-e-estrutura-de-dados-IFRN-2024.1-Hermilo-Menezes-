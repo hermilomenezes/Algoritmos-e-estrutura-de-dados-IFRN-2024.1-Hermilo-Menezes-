{
  "nbformat": 4,
  "nbformat_minor": 0,
  "metadata": {
    "colab": {
      "provenance": [],
      "authorship_tag": "ABX9TyN/5IuuU2ovBZuJ017a6Vhv",
      "include_colab_link": true
    },
    "kernelspec": {
      "name": "python3",
      "display_name": "Python 3"
    },
    "language_info": {
      "name": "python"
    }
  },
  "cells": [
    {
      "cell_type": "markdown",
      "metadata": {
        "id": "view-in-github",
        "colab_type": "text"
      },
      "source": [
        "<a href=\"https://colab.research.google.com/github/hermilomenezes/Algoritmos-e-estrutura-de-dados-IFRN-2024.1-Hermilo-Menezes-/blob/main/atividade_05_.ipynb\" target=\"_parent\"><img src=\"https://colab.research.google.com/assets/colab-badge.svg\" alt=\"Open In Colab\"/></a>"
      ]
    },
    {
      "cell_type": "code",
      "execution_count": null,
      "metadata": {
        "id": "oeymZwvTawtW"
      },
      "outputs": [],
      "source": []
    },
    {
      "cell_type": "markdown",
      "source": [
        "1. Crie um programa que leia um número inteiro. Quando este for negativo,\n",
        "some-o com 100; quando positivo, apenas faça sua impressão."
      ],
      "metadata": {
        "id": "oLJz_Ujla3mh"
      }
    },
    {
      "cell_type": "code",
      "source": [
        "num1 = int(input('Digite um número: '))\n",
        "s100 = (num1 + 100)\n",
        "if num1 >= 0:\n",
        "  print(num1)\n",
        "elif num1 < 0:\n",
        "  print(s100)"
      ],
      "metadata": {
        "colab": {
          "base_uri": "https://localhost:8080/"
        },
        "id": "URKLCniva7LH",
        "outputId": "cd049cf3-5cd6-4afa-ddab-c4b93f598194"
      },
      "execution_count": 1,
      "outputs": [
        {
          "output_type": "stream",
          "name": "stdout",
          "text": [
            "Digite um número: -20\n",
            "80\n"
          ]
        }
      ]
    },
    {
      "cell_type": "markdown",
      "source": [
        "2. Crie um programa que leia o código de um curso do IFRN, Campus\n",
        "Natal Central, e indique o nome do curso de acordo com a tabela abaixo. Se o\n",
        "programa ler um código inexistente no Instituto, uma mensagem de alerta deve\n",
        "ser informada ao usuário.\n",
        "Código Curso\n",
        "-1 Técnico em Informática\n",
        "Subseqüente\n",
        "-2 Técnico em Informática EJA\n",
        "-3 Técnico em Cooperativismo\n",
        "-4 Técnico em Cooperativismo EJA\n",
        "-5 Licenciatura em Física"
      ],
      "metadata": {
        "id": "xPuwoDsNfiFC"
      }
    },
    {
      "cell_type": "code",
      "source": [
        "curs1 = int(input('Digite o código do curso :(1 a 5) ' ))\n",
        "\n",
        "if curs1 == 1:\n",
        "      print('Técnico em informática subsequente')\n",
        "if curs1 == 2:\n",
        "      print('Técnico em informática EJA')\n",
        "if curs1 == 3:\n",
        "      print('Técnico em cooperativismo')\n",
        "if curs1 == 4:\n",
        "      print('Técnico em cooperativismo EJA')\n",
        "if curs1 == 5:\n",
        "      print('Licenciatura em Física')\n",
        "\n",
        "\n",
        "if curs1 <= 0:\n",
        "    print('Código inválido, curso inexistente ')\n",
        "if curs1 > 5:\n",
        "    print('Código inválido, curso inexistente ')\n"
      ],
      "metadata": {
        "colab": {
          "base_uri": "https://localhost:8080/"
        },
        "id": "bjTkRXtdf3Kn",
        "outputId": "058437f9-6455-4367-a2ac-ada077b26766"
      },
      "execution_count": 11,
      "outputs": [
        {
          "output_type": "stream",
          "name": "stdout",
          "text": [
            "Digite o código do curso :(1 a 5) 5\n",
            "Licenciatura em Física\n"
          ]
        }
      ]
    },
    {
      "cell_type": "markdown",
      "source": [
        "3. Leia duas strings e informe o conteúdo delas\n",
        "seguido do seu comprimento.\n",
        "3a. Crie uma variável res1 que informa se as duas\n",
        "strings possuem o mesmo comprimento.\n",
        "Observe o exemplo:\n",
        "● Compara duas strings\n",
        "● string1: Brasil Hexa 2006\n",
        "● string2: Brasil! Hexa 2006!\n",
        "● Tamanho de \"Brasil Hexa 2006\": 16 caracteres\n",
        "● Tamanho de \"Brasil! Hexa 2006!\": 18 caracteres\n"
      ],
      "metadata": {
        "id": "NPZ12a-kYJBz"
      }
    },
    {
      "cell_type": "code",
      "source": [
        "res1 = 'O Brasil vai ser hexa na copa de 2026'\n",
        "res2 = 'A maior vergonha da seleção Brasileira foi o 7 a 1'\n",
        "tamanho1 = len(res1)\n",
        "tamanho2 = len(res2)\n",
        "print('string 1:',res1)\n",
        "print('string 2:',res2)\n",
        "print('O tamanho de :',res1,':',tamanho1,'caracteres.')\n",
        "print('O tamanho de :',res2,':',tamanho2,'caracteres.')\n"
      ],
      "metadata": {
        "colab": {
          "base_uri": "https://localhost:8080/"
        },
        "id": "kxm3wBFmYKzm",
        "outputId": "04d4ea1b-ed9d-48a0-ac37-a44c4e7da831"
      },
      "execution_count": 41,
      "outputs": [
        {
          "output_type": "stream",
          "name": "stdout",
          "text": [
            "string 1: O Brasil vai ser hexa na copa de 2026\n",
            "string 2: A maior vergonha da seleção Brasileira foi o 7 a 1\n",
            "O tamanho de : O Brasil vai ser hexa na copa de 2026 : 37 caracteres.\n",
            "O tamanho de : A maior vergonha da seleção Brasileira foi o 7 a 1 : 50 caracteres.\n"
          ]
        }
      ]
    },
    {
      "cell_type": "markdown",
      "source": [
        "\"meu nome é \\\"wallace\\\""
      ],
      "metadata": {
        "id": "5IdrWE7tihNk"
      }
    }
  ]
}