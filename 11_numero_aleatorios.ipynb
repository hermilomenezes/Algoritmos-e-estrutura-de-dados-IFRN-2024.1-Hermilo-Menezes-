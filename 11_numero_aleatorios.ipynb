{
  "nbformat": 4,
  "nbformat_minor": 0,
  "metadata": {
    "colab": {
      "provenance": [],
      "authorship_tag": "ABX9TyMjDFEY0CUVGcE4Knxz3JXu",
      "include_colab_link": true
    },
    "kernelspec": {
      "name": "python3",
      "display_name": "Python 3"
    },
    "language_info": {
      "name": "python"
    }
  },
  "cells": [
    {
      "cell_type": "markdown",
      "metadata": {
        "id": "view-in-github",
        "colab_type": "text"
      },
      "source": [
        "<a href=\"https://colab.research.google.com/github/hermilomenezes/Algoritmos-e-estrutura-de-dados-IFRN-2024.1-Hermilo-Menezes-/blob/main/11_numero_aleatorios.ipynb\" target=\"_parent\"><img src=\"https://colab.research.google.com/assets/colab-badge.svg\" alt=\"Open In Colab\"/></a>"
      ]
    },
    {
      "cell_type": "code",
      "source": [
        "import random\n",
        "\n",
        "print(random.randint(1, 100))\n"
      ],
      "metadata": {
        "colab": {
          "base_uri": "https://localhost:8080/"
        },
        "id": "G_99zYHxoMVN",
        "outputId": "6fe86d9a-5cf1-430f-9ede-5d1b15d4c79f"
      },
      "execution_count": null,
      "outputs": [
        {
          "output_type": "stream",
          "name": "stdout",
          "text": [
            "68\n"
          ]
        }
      ]
    },
    {
      "cell_type": "code",
      "source": [
        "alunos = ['Daniel' , 'João','Beatriz','Maria']\n",
        "print(random.choice(alunos))\n",
        "print(random.choice(alunos))\n",
        "print(random.choice(alunos))\n"
      ],
      "metadata": {
        "colab": {
          "base_uri": "https://localhost:8080/"
        },
        "id": "wARF2FbjpRA8",
        "outputId": "904e6a91-8405-44df-a590-fee1edf4c658"
      },
      "execution_count": null,
      "outputs": [
        {
          "output_type": "stream",
          "name": "stdout",
          "text": [
            "Beatriz\n",
            "Daniel\n",
            "João\n"
          ]
        }
      ]
    },
    {
      "cell_type": "code",
      "source": [
        "alunos = ['Daniel' , 'João','Beatriz','Maria']\n",
        "print(alunos)\n",
        "random.shuffle(alunos)\n",
        "print(alunos)"
      ],
      "metadata": {
        "colab": {
          "base_uri": "https://localhost:8080/"
        },
        "id": "40XUsWvMqJl-",
        "outputId": "3908d5f6-2180-40b1-90ce-ae26bc59fd2b"
      },
      "execution_count": null,
      "outputs": [
        {
          "output_type": "stream",
          "name": "stdout",
          "text": [
            "['Daniel', 'João', 'Beatriz', 'Maria']\n",
            "['Maria', 'João', 'Beatriz', 'Daniel']\n"
          ]
        }
      ]
    },
    {
      "cell_type": "markdown",
      "source": [
        "Função rmbaralhar letras de uma palavra"
      ],
      "metadata": {
        "id": "ceWQubujqmIW"
      }
    },
    {
      "cell_type": "code",
      "source": [
        "def embaralhar(palavra):\n",
        "  import random\n",
        "  lista = list(palavra)\n",
        "  random.shuffle(lista)\n",
        "  return ''.join(lista)\n",
        "palavra = embaralhar('programação')\n",
        "print(palavra)\n",
        "\n"
      ],
      "metadata": {
        "id": "oBSvUUqdqo1F",
        "colab": {
          "base_uri": "https://localhost:8080/"
        },
        "outputId": "874041a0-b4db-41c1-d6ac-a0be6add61dc"
      },
      "execution_count": 53,
      "outputs": [
        {
          "output_type": "stream",
          "name": "stdout",
          "text": [
            "gparmoçoarã\n"
          ]
        }
      ]
    }
  ]
}