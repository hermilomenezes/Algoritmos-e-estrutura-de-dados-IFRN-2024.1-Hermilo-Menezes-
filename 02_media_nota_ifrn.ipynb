{
  "nbformat": 4,
  "nbformat_minor": 0,
  "metadata": {
    "colab": {
      "provenance": [],
      "authorship_tag": "ABX9TyMawqGUhJD/516R3o6mVwM2",
      "include_colab_link": true
    },
    "kernelspec": {
      "name": "python3",
      "display_name": "Python 3"
    },
    "language_info": {
      "name": "python"
    }
  },
  "cells": [
    {
      "cell_type": "markdown",
      "metadata": {
        "id": "view-in-github",
        "colab_type": "text"
      },
      "source": [
        "<a href=\"https://colab.research.google.com/github/hermilomenezes/algoritmos2024.1hmenezes/blob/main/02_media_nota_ifrn.ipynb\" target=\"_parent\"><img src=\"https://colab.research.google.com/assets/colab-badge.svg\" alt=\"Open In Colab\"/></a>"
      ]
    },
    {
      "cell_type": "code",
      "execution_count": null,
      "metadata": {
        "id": "OLXu-ZwsxOzs"
      },
      "outputs": [],
      "source": []
    },
    {
      "cell_type": "markdown",
      "source": [
        "Calculadora de média ponderada IFRN"
      ],
      "metadata": {
        "id": "FpzYs9zMxV_L"
      }
    },
    {
      "cell_type": "code",
      "source": [
        "print(\"Calculadora de média ponderada do IFRN\")\n",
        "#Float, tipagem explícita, para garantir número fracionário\n",
        "n1 = float( input(\"Digite a nota 1(com peso 2) \"))\n",
        "n2 = float( input(\"Digite a nota 2(com peso 3) \"))\n",
        "#calculo de media ponderada\n",
        "media = (n1 * 2 + n2 * 3) / 5\n",
        "print(f\" A média ponderada das notas é: {media:.2f}\")\n",
        "#impressão da média\n",
        "print(f\" A média ponderada das notas é: {media:.2f}\")\n",
        "#impressão da média sem formatação\n",
        "print(f\" A média ponderada das notas é: \", media)\n",
        "#impressão da média\n",
        "print(f\" A média ponderada das notas é: {media:.3f}\")"
      ],
      "metadata": {
        "colab": {
          "base_uri": "https://localhost:8080/"
        },
        "id": "qSke14Rdxgcb",
        "outputId": "a35d22a7-d5dc-4763-b9aa-d57b2ddd3a13"
      },
      "execution_count": 6,
      "outputs": [
        {
          "output_type": "stream",
          "name": "stdout",
          "text": [
            "Calculadora de média ponderada do IFRN\n",
            "Digite a nota 1(com peso 2) 4.8\n",
            "Digite a nota 2(com peso 3) 5.6\n",
            " A média ponderada das notas é: 5.28\n",
            " A média ponderada das notas é:  5.279999999999999\n",
            " A média ponderada das notas é: 5.280\n"
          ]
        }
      ]
    }
  ]
}