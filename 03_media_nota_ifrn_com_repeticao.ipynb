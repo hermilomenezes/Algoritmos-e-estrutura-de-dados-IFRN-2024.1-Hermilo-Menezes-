{
  "nbformat": 4,
  "nbformat_minor": 0,
  "metadata": {
    "colab": {
      "provenance": [],
      "authorship_tag": "ABX9TyO8pt5jB5/bM34u2VmT4uKx",
      "include_colab_link": true
    },
    "kernelspec": {
      "name": "python3",
      "display_name": "Python 3"
    },
    "language_info": {
      "name": "python"
    }
  },
  "cells": [
    {
      "cell_type": "markdown",
      "metadata": {
        "id": "view-in-github",
        "colab_type": "text"
      },
      "source": [
        "<a href=\"https://colab.research.google.com/github/hermilomenezes/Algoritmos-e-estrutura-de-dados-IFRN-2024.1-Hermilo-Menezes-/blob/main/03_media_nota_ifrn_com_repeticao.ipynb\" target=\"_parent\"><img src=\"https://colab.research.google.com/assets/colab-badge.svg\" alt=\"Open In Colab\"/></a>"
      ]
    },
    {
      "cell_type": "code",
      "execution_count": null,
      "metadata": {
        "id": "v0m9HhAfhcLb"
      },
      "outputs": [],
      "source": []
    },
    {
      "cell_type": "code",
      "source": [
        "print(\"Calculadora de média ponderada do IFRN\")\n",
        "\n",
        "#perguntando, para quantos alunos, desejo calcular média\n",
        "num_alunos = int(input(\"Digite o número de alunos: \"))\n",
        "\n",
        "for aluno in range(1, num_alunos+1):\n",
        "#imprima o número de aluno da vez\n",
        "  print(f\"\\Aluno {aluno}:\")\n",
        "\n",
        "  #Float, tipagem explícita, para garantir número fracionário\n",
        "  n1 = float( input(\"Digite a nota 1(com peso 2) \"))\n",
        "  n2 = float( input(\"Digite a nota 2(com peso 3) \"))\n",
        "  5\n",
        "  #calculo de media ponderada\n",
        "  media = (n1 * 2 + n2 * 3) / 5\n",
        "  print(f\" A média ponderada das notas é: {media:.2f}\")\n",
        "  #impressão da média\n",
        "\n",
        "  #apresentar se o aluno foi aprovado ou não\n",
        "  if media >= 6:\n",
        "    print(\"Aprovado\")\n",
        "  else:\n",
        "    if n1 >= 4  and n2 >= 4:\n",
        "      print(\"prova final\")\n",
        "    else:\n",
        "      print(\"Reprovado\")\n"
      ],
      "metadata": {
        "colab": {
          "base_uri": "https://localhost:8080/"
        },
        "id": "uU81cucKhvS6",
        "outputId": "9fb72801-76be-4ca2-e294-fae14a98c4c3"
      },
      "execution_count": 5,
      "outputs": [
        {
          "output_type": "stream",
          "name": "stdout",
          "text": [
            "Calculadora de média ponderada do IFRN\n",
            "Digite o número de alunos: 3\n",
            "\\Aluno 1:\n",
            "Digite a nota 1(com peso 2) 3\n",
            "Digite a nota 2(com peso 3) 5\n",
            " A média ponderada das notas é: 4.20\n",
            "Reprovado\n",
            "\\Aluno 2:\n",
            "Digite a nota 1(com peso 2) 4\n",
            "Digite a nota 2(com peso 3) 6\n",
            " A média ponderada das notas é: 5.20\n",
            "prova final\n",
            "\\Aluno 3:\n",
            "Digite a nota 1(com peso 2) 5\n",
            "Digite a nota 2(com peso 3) 8\n",
            " A média ponderada das notas é: 6.80\n",
            "Aprovado\n"
          ]
        }
      ]
    }
  ]
}