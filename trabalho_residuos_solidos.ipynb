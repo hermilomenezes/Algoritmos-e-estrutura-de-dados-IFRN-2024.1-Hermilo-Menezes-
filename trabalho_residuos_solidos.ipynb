{
  "nbformat": 4,
  "nbformat_minor": 0,
  "metadata": {
    "colab": {
      "provenance": [],
      "authorship_tag": "ABX9TyOC7N23Qllf/zM5SkGL3H6y",
      "include_colab_link": true
    },
    "kernelspec": {
      "name": "python3",
      "display_name": "Python 3"
    },
    "language_info": {
      "name": "python"
    }
  },
  "cells": [
    {
      "cell_type": "markdown",
      "metadata": {
        "id": "view-in-github",
        "colab_type": "text"
      },
      "source": [
        "<a href=\"https://colab.research.google.com/github/hermilomenezes/Algoritmos-e-estrutura-de-dados-IFRN-2024.1-Hermilo-Menezes-/blob/main/trabalho_residuos_solidos.ipynb\" target=\"_parent\"><img src=\"https://colab.research.google.com/assets/colab-badge.svg\" alt=\"Open In Colab\"/></a>"
      ]
    },
    {
      "cell_type": "code",
      "execution_count": null,
      "metadata": {
        "id": "MNRjwdut9jZK"
      },
      "outputs": [],
      "source": [
        "bairros_leste_natal = ['santos reis', 'rocas', 'ribeira', 'praia do meio', 'cidade alta', 'petrópolis', 'areia preta', 'mãe luiza', 'alecrim', 'barro vermelho', 'tirol', 'lagoa Seca']\n",
        "\n",
        "while True:\n",
        "    lix1 = input('Olá, qual o seu nome? ')\n",
        "    while True:\n",
        "        lix2 = input('Em que bairro da região leste de Natal-RN o Sr.(a) mora? ').strip().lower()\n",
        "        if lix2 in bairros_leste_natal:\n",
        "          print(f'Ótimo bairro')\n",
        "          break\n",
        "        else:\n",
        "          print('Digite um bairro válido.')\n",
        "\n",
        "    lix3 = input('Qual o nome da rua? (Por favor, informar somente rua do bairro Leste de Natal-RN) ')\n",
        "    lix4 = input('Poderia responder algumas perguntas para utilizarmos as informações na otimização do sistema de coleta em sua localidade? (Sim/Não) ').strip().lower()\n",
        "\n",
        "    if lix4 == 'não':\n",
        "        print('Ok, programa encerrado.')\n",
        "        break\n",
        "    elif lix4 == 'sim':\n",
        "        while True:\n",
        "            try:\n",
        "                lix5 = int(input('Quantas sacolas de lixo são utilizadas diariamente em sua residência? '))\n",
        "                if lix5 < 1:\n",
        "                    print('Digite um valor maior ou igual a 1.')\n",
        "                else:\n",
        "                    break\n",
        "            except ValueError:\n",
        "                print('Por favor, digite um número válido.')\n",
        "\n",
        "        while True:\n",
        "            try:\n",
        "                lix6 = float(input('Quantos kg ou litros cabem em cada sacola utilizada? '))\n",
        "                if lix6 < 2:\n",
        "                    print('Digite um valor maior ou igual a 2.')\n",
        "                else:\n",
        "                    break\n",
        "            except ValueError:\n",
        "                print('Por favor, digite um número válido.')\n",
        "\n",
        "        lix8 = input('Há problemas quanto ao acúmulo de lixo em sua rua? (Sim/Não) ')\n",
        "        lix9 = input('Por favor em poucas palavras diga quais os problemas mais recorrentes que envolvam a coleta de lixo:')\n",
        "        lix10 = input('Os moradores em sua residência sabem o dia e a previsão de horário que o caminhão de coleta passa? ')\n",
        "        print('Obrigado pelas suas respostas!')\n",
        "        break\n",
        "    else:\n",
        "        print('Resposta inválida. Por favor, responda com \"Sim\" ou \"Não\".')\n",
        "\n",
        "quantidade_residuos_sólidos_por_residencia = lix5 * lix6\n"
      ]
    }
  ]
}