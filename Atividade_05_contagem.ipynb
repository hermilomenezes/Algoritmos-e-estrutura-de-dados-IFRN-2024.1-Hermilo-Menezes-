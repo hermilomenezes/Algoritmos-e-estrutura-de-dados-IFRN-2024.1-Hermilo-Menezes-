{
  "nbformat": 4,
  "nbformat_minor": 0,
  "metadata": {
    "colab": {
      "provenance": [],
      "authorship_tag": "ABX9TyPK9AhASH5W/dzIlcty3dmu",
      "include_colab_link": true
    },
    "kernelspec": {
      "name": "python3",
      "display_name": "Python 3"
    },
    "language_info": {
      "name": "python"
    }
  },
  "cells": [
    {
      "cell_type": "markdown",
      "metadata": {
        "id": "view-in-github",
        "colab_type": "text"
      },
      "source": [
        "<a href=\"https://colab.research.google.com/github/hermilomenezes/Algoritmos-e-estrutura-de-dados-IFRN-2024.1-Hermilo-Menezes-/blob/main/Atividade_05_contagem.ipynb\" target=\"_parent\"><img src=\"https://colab.research.google.com/assets/colab-badge.svg\" alt=\"Open In Colab\"/></a>"
      ]
    },
    {
      "cell_type": "code",
      "source": [
        "def contar_palavra(arquivo, palavra):\n",
        "    \"\"\"\n",
        "    Conta quantas vezes a palavra aparece no arquivo de texto.\n",
        "\n",
        "    Args:\n",
        "        arquivo (str): O caminho para o arquivo de texto.\n",
        "        palavra (str): A palavra a ser contada.\n",
        "\n",
        "    Returns:\n",
        "        int: O número de vezes que a palavra aparece no arquivo.\n",
        "    \"\"\"\n",
        "    with open(arquivo, 'r', encoding='utf-8') as f:\n",
        "        texto = f.read()\n",
        "\n",
        "    return len([w for w in texto.split() if w == palavra])\n"
      ],
      "metadata": {
        "id": "eT90-twKe854"
      },
      "execution_count": 6,
      "outputs": []
    },
    {
      "cell_type": "markdown",
      "source": [
        "Descrição: Escreva uma função que conte o número de ocorrências de uma palavra\n",
        "específica em um arquivo de texto.\n",
        "def contar_palavra(arquivo, palavra):\n",
        "&quot;&quot;&quot;\n",
        "Conta quantas vezes a palavra `palavra` aparece no arquivo `arquivo`.\n",
        "\n",
        "Args:\n",
        "arquivo (str): O caminho para o arquivo de texto.\n",
        "palavra (str): A palavra a ser contada.\n",
        "\n",
        "Returns:\n",
        "int: O número de vezes que `palavra` aparece no arquivo.\n",
        "&quot;&quot;&quot;\n",
        "pass"
      ],
      "metadata": {
        "id": "KH0FwXm1E_bp"
      }
    }
  ]
}