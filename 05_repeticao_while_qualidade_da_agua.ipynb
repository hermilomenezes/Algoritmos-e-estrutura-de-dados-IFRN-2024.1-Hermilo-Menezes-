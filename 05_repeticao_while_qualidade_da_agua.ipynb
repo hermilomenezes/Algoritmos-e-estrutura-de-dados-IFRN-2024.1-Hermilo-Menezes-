{
  "nbformat": 4,
  "nbformat_minor": 0,
  "metadata": {
    "colab": {
      "provenance": [],
      "authorship_tag": "ABX9TyMiK2cFiNITgnBInEf2F4Ml",
      "include_colab_link": true
    },
    "kernelspec": {
      "name": "python3",
      "display_name": "Python 3"
    },
    "language_info": {
      "name": "python"
    }
  },
  "cells": [
    {
      "cell_type": "markdown",
      "metadata": {
        "id": "view-in-github",
        "colab_type": "text"
      },
      "source": [
        "<a href=\"https://colab.research.google.com/github/hermilomenezes/Algoritmos-e-estrutura-de-dados-IFRN-2024.1-Hermilo-Menezes-/blob/main/05_repeticao_while_qualidade_da_agua.ipynb\" target=\"_parent\"><img src=\"https://colab.research.google.com/assets/colab-badge.svg\" alt=\"Open In Colab\"/></a>"
      ]
    },
    {
      "cell_type": "code",
      "execution_count": null,
      "metadata": {
        "colab": {
          "base_uri": "https://localhost:8080/"
        },
        "id": "sBwbl9Bt1UvO",
        "outputId": "ad52cee7-205f-4a05-ef5c-35418f1aafad"
      },
      "outputs": [
        {
          "output_type": "stream",
          "name": "stdout",
          "text": [
            "insira o nível de cloro da agua para verificar se está dentro do padrão aceito\n"
          ]
        }
      ],
      "source": [
        "#programa de controle de qualidade da água\n",
        "print(\"insira o nível de cloro da agua para verificar se está dentro do padrão aceito\")\n",
        "paradinha = True\n",
        "#paradinha = 1 #outro exemplo\n",
        "\n",
        "while paradinha: #loop infinito // infinete loop\n",
        "  nivel_cloro = float(input(\"Digite o nível de cloro em mg/L: \"))\n",
        "  #verificando se o nivel_cloro 0.2 > nivel_cloro < 2\n",
        "  if nivel_cloro < 0.2:\n",
        "      print(\"Atenção: O nível de cloro está abaixo do padrão aceitável\")\n",
        "  elif nivel_cloro > 2.0:\n",
        "      print(\"Atenção: O nível de cloro está acima do padrão aceitável\")\n",
        "  else:\n",
        "      print(\"O nível do cloro está dentro dos padrões aceitáveis.\")\n",
        "paradinha = False"
      ]
    }
  ]
}