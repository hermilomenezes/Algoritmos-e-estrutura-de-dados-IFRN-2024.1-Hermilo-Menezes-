{
  "nbformat": 4,
  "nbformat_minor": 0,
  "metadata": {
    "colab": {
      "provenance": [],
      "authorship_tag": "ABX9TyP1mW7HEf4P8WZ2u8wR1QBh",
      "include_colab_link": true
    },
    "kernelspec": {
      "name": "python3",
      "display_name": "Python 3"
    },
    "language_info": {
      "name": "python"
    }
  },
  "cells": [
    {
      "cell_type": "markdown",
      "metadata": {
        "id": "view-in-github",
        "colab_type": "text"
      },
      "source": [
        "<a href=\"https://colab.research.google.com/github/hermilomenezes/Algoritmos-e-estrutura-de-dados-IFRN-2024.1-Hermilo-Menezes-/blob/main/08_objetos_builtin_python.ipynb\" target=\"_parent\"><img src=\"https://colab.research.google.com/assets/colab-badge.svg\" alt=\"Open In Colab\"/></a>"
      ]
    },
    {
      "cell_type": "code",
      "execution_count": 7,
      "metadata": {
        "colab": {
          "base_uri": "https://localhost:8080/"
        },
        "id": "jAEwS97t6H6o",
        "outputId": "476242b0-8ebd-418b-92bd-ed5ebab7d853"
      },
      "outputs": [
        {
          "output_type": "stream",
          "name": "stdout",
          "text": [
            "4\n",
            "<class 'str'>\n",
            "['__add__', '__class__', '__contains__', '__delattr__', '__dir__', '__doc__', '__eq__', '__format__', '__ge__', '__getattribute__', '__getitem__', '__getnewargs__', '__gt__', '__hash__', '__init__', '__init_subclass__', '__iter__', '__le__', '__len__', '__lt__', '__mod__', '__mul__', '__ne__', '__new__', '__reduce__', '__reduce_ex__', '__repr__', '__rmod__', '__rmul__', '__setattr__', '__sizeof__', '__str__', '__subclasshook__', 'capitalize', 'casefold', 'center', 'count', 'encode', 'endswith', 'expandtabs', 'find', 'format', 'format_map', 'index', 'isalnum', 'isalpha', 'isascii', 'isdecimal', 'isdigit', 'isidentifier', 'islower', 'isnumeric', 'isprintable', 'isspace', 'istitle', 'isupper', 'join', 'ljust', 'lower', 'lstrip', 'maketrans', 'partition', 'removeprefix', 'removesuffix', 'replace', 'rfind', 'rindex', 'rjust', 'rpartition', 'rsplit', 'rstrip', 'split', 'splitlines', 'startswith', 'strip', 'swapcase', 'title', 'translate', 'upper', 'zfill']\n",
            "False\n",
            "True\n",
            "False\n",
            "True\n"
          ]
        }
      ],
      "source": [
        "#exemplo de uso de objetos built-in do Python\n",
        "s = 'spam'\n",
        "#tamanho de s\n",
        "print(len(s))\n",
        "\n",
        "#tipo de classe de s\n",
        "print(type(s))\n",
        "\n",
        "#atributos de objeto disponíveis para s\n",
        "print(dir(s))\n",
        "\n",
        "#testando o atributo isnumeric\n",
        "print(s.isnumeric())\n",
        "print(s.isascii())\n",
        "print(s.isdecimal())\n",
        "print(s.isprintable())\n"
      ]
    },
    {
      "cell_type": "code",
      "source": [
        "print(s[0])\n",
        "print(s[1:3])\n",
        "#três primeiros caracteres\n",
        "print(s[:3])\n",
        "print(s[:2])\n",
        "\n",
        "#adicionar o sufixo xyz\n",
        "print(s + 'xyz')\n",
        "\n",
        "#o trecho com pa\n",
        "print(s.find('m'))\n",
        "\n",
        "#colocar em maisculas\n",
        "print(s.upper())\n",
        "\n",
        "#colocar em minusculas\n",
        "print(s.lower())\n",
        "\n",
        "#substituir um trecho, exemplo, ´pa por ma\n",
        "print(s.replace('pa','ma'))\n",
        "#para substituir permanentemente, teria que acontecer\n",
        "#uma operação de atribuição\n",
        "#s = s.replace('pa','ma')\n",
        "print(s)"
      ],
      "metadata": {
        "colab": {
          "base_uri": "https://localhost:8080/"
        },
        "id": "wMyUdGyl9k1N",
        "outputId": "c4b64f08-cd27-4fee-e3de-e8d87f9ed575"
      },
      "execution_count": 17,
      "outputs": [
        {
          "output_type": "stream",
          "name": "stdout",
          "text": [
            "s\n",
            "pa\n",
            "spa\n",
            "sp\n",
            "spamxyz\n",
            "3\n",
            "SPAM\n",
            "spam\n",
            "smam\n",
            "spam\n"
          ]
        }
      ]
    },
    {
      "cell_type": "code",
      "source": [
        "l = [123, 'casa', 3.14]\n",
        "print(type(l))\n",
        "print(dir(l))"
      ],
      "metadata": {
        "colab": {
          "base_uri": "https://localhost:8080/"
        },
        "id": "JLk8VHb6_yPe",
        "outputId": "5b9bab80-b4ab-4acf-807a-6372a88e7e71"
      },
      "execution_count": 21,
      "outputs": [
        {
          "output_type": "stream",
          "name": "stdout",
          "text": [
            "<class 'list'>\n",
            "['__add__', '__class__', '__class_getitem__', '__contains__', '__delattr__', '__delitem__', '__dir__', '__doc__', '__eq__', '__format__', '__ge__', '__getattribute__', '__getitem__', '__gt__', '__hash__', '__iadd__', '__imul__', '__init__', '__init_subclass__', '__iter__', '__le__', '__len__', '__lt__', '__mul__', '__ne__', '__new__', '__reduce__', '__reduce_ex__', '__repr__', '__reversed__', '__rmul__', '__setattr__', '__setitem__', '__sizeof__', '__str__', '__subclasshook__', 'append', 'clear', 'copy', 'count', 'extend', 'index', 'insert', 'pop', 'remove', 'reverse', 'sort']\n"
          ]
        }
      ]
    },
    {
      "cell_type": "code",
      "source": [
        "l = [123, 'casa', 3.14]\n",
        "print(type(l))\n",
        "print(dir(l))\n",
        "\n",
        "print(len(l))\n",
        "print(l[2])\n",
        "#duplicar a lista\n",
        "print(l*2)\n",
        "#adicionar um item a lista\n",
        "l = l + ['abc']\n",
        "print(l)\n",
        "#adicionar um item a lista\n",
        "l.append('bola')\n",
        "print(l)\n",
        "#remover a primeira ocorrência de casa\n",
        "l.remove('casa')\n",
        "print(l)"
      ],
      "metadata": {
        "colab": {
          "base_uri": "https://localhost:8080/"
        },
        "id": "u4uwiaGsAWd8",
        "outputId": "49e1424f-8756-43a4-d6c4-e2ba31f202c6"
      },
      "execution_count": 38,
      "outputs": [
        {
          "output_type": "stream",
          "name": "stdout",
          "text": [
            "<class 'list'>\n",
            "['__add__', '__class__', '__class_getitem__', '__contains__', '__delattr__', '__delitem__', '__dir__', '__doc__', '__eq__', '__format__', '__ge__', '__getattribute__', '__getitem__', '__gt__', '__hash__', '__iadd__', '__imul__', '__init__', '__init_subclass__', '__iter__', '__le__', '__len__', '__lt__', '__mul__', '__ne__', '__new__', '__reduce__', '__reduce_ex__', '__repr__', '__reversed__', '__rmul__', '__setattr__', '__setitem__', '__sizeof__', '__str__', '__subclasshook__', 'append', 'clear', 'copy', 'count', 'extend', 'index', 'insert', 'pop', 'remove', 'reverse', 'sort']\n",
            "3\n",
            "3.14\n",
            "[123, 'casa', 3.14, 123, 'casa', 3.14]\n",
            "[123, 'casa', 3.14, 'abc']\n",
            "[123, 'casa', 3.14, 'abc', 'bola']\n",
            "[123, 3.14, 'abc', 'bola']\n"
          ]
        }
      ]
    }
  ]
}