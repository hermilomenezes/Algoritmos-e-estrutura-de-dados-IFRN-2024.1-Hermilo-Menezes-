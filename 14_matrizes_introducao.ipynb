{
  "nbformat": 4,
  "nbformat_minor": 0,
  "metadata": {
    "colab": {
      "provenance": [],
      "authorship_tag": "ABX9TyOwJgirHtNxriFSpDEXP29J",
      "include_colab_link": true
    },
    "kernelspec": {
      "name": "python3",
      "display_name": "Python 3"
    },
    "language_info": {
      "name": "python"
    }
  },
  "cells": [
    {
      "cell_type": "markdown",
      "metadata": {
        "id": "view-in-github",
        "colab_type": "text"
      },
      "source": [
        "<a href=\"https://colab.research.google.com/github/hermilomenezes/Algoritmos-e-estrutura-de-dados-IFRN-2024.1-Hermilo-Menezes-/blob/main/14_matrizes_introducao.ipynb\" target=\"_parent\"><img src=\"https://colab.research.google.com/assets/colab-badge.svg\" alt=\"Open In Colab\"/></a>"
      ]
    },
    {
      "cell_type": "code",
      "execution_count": 1,
      "metadata": {
        "colab": {
          "base_uri": "https://localhost:8080/"
        },
        "id": "cXbhQHIAzq3N",
        "outputId": "a09d79c3-3628-4906-a983-bd8f7ef7fb05"
      },
      "outputs": [
        {
          "output_type": "stream",
          "name": "stdout",
          "text": [
            "[1, 2, 3, 4, 5, 6]\n"
          ]
        }
      ],
      "source": [
        "M = [1,2,3,4,5,6] #unidimensional\n",
        "print(M)"
      ]
    },
    {
      "cell_type": "code",
      "source": [
        "M = [[1,1,1],[1,1,1],[1,1,1]]\n",
        "#print(M)\n",
        "M = [[1]*3]*3 #bidimensional\n",
        "print(M)"
      ],
      "metadata": {
        "colab": {
          "base_uri": "https://localhost:8080/"
        },
        "id": "3xrJoRJQ0BS_",
        "outputId": "e2425213-9d83-4b92-9ede-896cabf970a0"
      },
      "execution_count": 8,
      "outputs": [
        {
          "output_type": "stream",
          "name": "stdout",
          "text": [
            "[[1, 1, 1], [1, 1, 1], [1, 1, 1]]\n"
          ]
        }
      ]
    }
  ]
}