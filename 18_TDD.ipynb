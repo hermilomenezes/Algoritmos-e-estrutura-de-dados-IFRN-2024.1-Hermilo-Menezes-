{
  "nbformat": 4,
  "nbformat_minor": 0,
  "metadata": {
    "colab": {
      "provenance": [],
      "authorship_tag": "ABX9TyM3WFEvp/kQz19XdrKMsXhU",
      "include_colab_link": true
    },
    "kernelspec": {
      "name": "python3",
      "display_name": "Python 3"
    },
    "language_info": {
      "name": "python"
    }
  },
  "cells": [
    {
      "cell_type": "markdown",
      "metadata": {
        "id": "view-in-github",
        "colab_type": "text"
      },
      "source": [
        "<a href=\"https://colab.research.google.com/github/hermilomenezes/Algoritmos-e-estrutura-de-dados-IFRN-2024.1-Hermilo-Menezes-/blob/main/18_TDD.ipynb\" target=\"_parent\"><img src=\"https://colab.research.google.com/assets/colab-badge.svg\" alt=\"Open In Colab\"/></a>"
      ]
    },
    {
      "cell_type": "code",
      "execution_count": 2,
      "metadata": {
        "id": "zoc0Adz8f5zz",
        "colab": {
          "base_uri": "https://localhost:8080/",
          "height": 106
        },
        "outputId": "fc8c62e5-57d2-4558-e7a6-6ae7fc8f92fe"
      },
      "outputs": [
        {
          "output_type": "error",
          "ename": "SyntaxError",
          "evalue": "invalid syntax (<ipython-input-2-8d891ce63ec6>, line 10)",
          "traceback": [
            "\u001b[0;36m  File \u001b[0;32m\"<ipython-input-2-8d891ce63ec6>\"\u001b[0;36m, line \u001b[0;32m10\u001b[0m\n\u001b[0;31m    lista =\u001b[0m\n\u001b[0m           ^\u001b[0m\n\u001b[0;31mSyntaxError\u001b[0m\u001b[0;31m:\u001b[0m invalid syntax\n"
          ]
        }
      ],
      "source": [
        "#TDD - O Test-Driven Development (TDD), ou Desenvolvimento Orientado a Testes,\n",
        "#é uma metodologia de desenvolvimento de software que enfatiza a criação e\n",
        "#execução de testes antes mesmo do desenvolvimento do código\n",
        "\n",
        "#programa para avaliar a saída de uma função dado uma entrada\n",
        "import random\n",
        "\n",
        "#esqueleto de uma função para gerar uma lista de 28 numeros aleatorios, entre 1 e 100\n",
        "def gerar_lista_aleatoria():\n",
        "  pass\n",
        "\n",
        "#Esqueleto de uma função para gerar uma lista de 28 numeros aleatorios distintos entre 1 e 100\n",
        "def gerar_lista_aleatoria_distintos():\n",
        "  lista = random.sample(range(1, 101), 28)\n",
        "  return lista\n",
        "\n",
        "#esqueleto de uma função para ordenar a lista\n",
        "def ordenar_lista(lista):\n",
        "  pass\n",
        "\n",
        "#esqueleto de uma função para embaralhar a lista\n",
        "def embaralhar_lista(lista):\n",
        "  random.shuffle(lista)\n",
        "  return lista\n",
        "print(embaralhar_lista)\n",
        "  #pass"
      ]
    }
  ]
}