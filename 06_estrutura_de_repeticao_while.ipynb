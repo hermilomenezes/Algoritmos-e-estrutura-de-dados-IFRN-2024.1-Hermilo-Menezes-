{
  "nbformat": 4,
  "nbformat_minor": 0,
  "metadata": {
    "colab": {
      "provenance": [],
      "include_colab_link": true
    },
    "kernelspec": {
      "name": "python3",
      "display_name": "Python 3"
    },
    "language_info": {
      "name": "python"
    }
  },
  "cells": [
    {
      "cell_type": "markdown",
      "metadata": {
        "id": "view-in-github",
        "colab_type": "text"
      },
      "source": [
        "<a href=\"https://colab.research.google.com/github/hermilomenezes/Algoritmos-e-estrutura-de-dados-IFRN-2024.1-Hermilo-Menezes-/blob/main/06_estrutura_de_repeticao_while.ipynb\" target=\"_parent\"><img src=\"https://colab.research.google.com/assets/colab-badge.svg\" alt=\"Open In Colab\"/></a>"
      ]
    },
    {
      "cell_type": "code",
      "execution_count": 12,
      "metadata": {
        "colab": {
          "base_uri": "https://localhost:8080/"
        },
        "id": "ZigAqV-kcRUX",
        "outputId": "c974202c-70cc-4c52-c34e-62e9a8aa8e30"
      },
      "outputs": [
        {
          "output_type": "stream",
          "name": "stdout",
          "text": [
            "hermilo ermilo rmilo milo ilo lo o "
          ]
        }
      ],
      "source": [
        "from re import  I\n",
        "x = 'hermilo'\n",
        "while x:\n",
        "  print(x, end=' ')\n",
        "  x = x[1:]"
      ]
    },
    {
      "cell_type": "code",
      "source": [
        "x = 10\n",
        "while x:\n",
        "  #print('Valor de x:') #informação de debbuging (depuração)\n",
        "  #print(x) #informação de debbuging (depuração)\n",
        "  #print('Resultado divisão') #informação de debbuging (depuração)\n",
        "  a= (x % 2)\n",
        "  #print(a) #informação de debbuging (depuração)\n",
        "  x-=1\n",
        "  #if x % 2 !=0: #Comparação da diferença, quando o resto da\n",
        "                #divisão, for diferente de 0\n",
        "  #if x % 2 == 1: #comparação da diferença, quando o resto da\n",
        "                #divisão, for diferente de 1\n",
        "  if x % 2 != 1: #comparação da diferença, quando o resto da\n",
        "                  #divisão, for diferente de 1\n",
        "    continue\n",
        "  print(x,end=' ')"
      ],
      "metadata": {
        "id": "sEkFXT4YjRnV",
        "outputId": "552ff766-a672-4d04-ad6b-82397f74e068",
        "colab": {
          "base_uri": "https://localhost:8080/"
        }
      },
      "execution_count": 28,
      "outputs": [
        {
          "output_type": "stream",
          "name": "stdout",
          "text": [
            "9 7 5 3 1 "
          ]
        }
      ]
    },
    {
      "cell_type": "markdown",
      "source": [
        "Verificador de números primos"
      ],
      "metadata": {
        "id": "o6tOffg8o6ZW"
      }
    }
  ]
}