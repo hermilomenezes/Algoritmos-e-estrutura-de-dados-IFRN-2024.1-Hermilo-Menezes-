{
  "nbformat": 4,
  "nbformat_minor": 0,
  "metadata": {
    "colab": {
      "provenance": [],
      "authorship_tag": "ABX9TyO/94VVLJYzsbjOtiZl7Ahk",
      "include_colab_link": true
    },
    "kernelspec": {
      "name": "python3",
      "display_name": "Python 3"
    },
    "language_info": {
      "name": "python"
    }
  },
  "cells": [
    {
      "cell_type": "markdown",
      "metadata": {
        "id": "view-in-github",
        "colab_type": "text"
      },
      "source": [
        "<a href=\"https://colab.research.google.com/github/hermilomenezes/Algoritmos-e-estrutura-de-dados-IFRN-2024.1-Hermilo-Menezes-/blob/main/Untitled27.ipynb\" target=\"_parent\"><img src=\"https://colab.research.google.com/assets/colab-badge.svg\" alt=\"Open In Colab\"/></a>"
      ]
    },
    {
      "cell_type": "code",
      "execution_count": 10,
      "metadata": {
        "colab": {
          "base_uri": "https://localhost:8080/"
        },
        "id": "eqTg1sOLWcme",
        "outputId": "b3e51d29-ec61-4c7b-f1ee-822101b70fb2"
      },
      "outputs": [
        {
          "output_type": "stream",
          "name": "stdout",
          "text": [
            "Digite a mensagem para criptografar:amanhã\n",
            "Mensagem criptografada: p|p}wò\n",
            "Mensagem descriptografada: amanhã\n"
          ]
        }
      ],
      "source": [
        "#Criptografia\n",
        "def criptografa(msg):\n",
        "  s = \"\"\n",
        "  #Cifra de césar\n",
        "  for i in msg:\n",
        "    s += chr(ord(i) + 15)\n",
        "  return s\n",
        "def descriptografar(msg):\n",
        "  s = \"\"\n",
        "  #Cifra de césar\n",
        "  for i in msg:\n",
        "    s += chr(ord(i) - 15)\n",
        "  return s\n",
        "\n",
        "mensagem = input('Digite a mensagem para criptografar:')\n",
        "mensagem_criptografada = criptografa(mensagem)\n",
        "print('Mensagem criptografada:', mensagem_criptografada)\n",
        "\n",
        "mensagem_descriptografada = descriptografar(mensagem_criptografada)\n",
        "print('Mensagem descriptografada:', mensagem_descriptografada)"
      ]
    }
  ]
}