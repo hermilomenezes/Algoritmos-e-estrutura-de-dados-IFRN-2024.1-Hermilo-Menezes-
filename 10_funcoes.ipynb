{
  "nbformat": 4,
  "nbformat_minor": 0,
  "metadata": {
    "colab": {
      "provenance": [],
      "include_colab_link": true
    },
    "kernelspec": {
      "name": "python3",
      "display_name": "Python 3"
    },
    "language_info": {
      "name": "python"
    }
  },
  "cells": [
    {
      "cell_type": "markdown",
      "metadata": {
        "id": "view-in-github",
        "colab_type": "text"
      },
      "source": [
        "<a href=\"https://colab.research.google.com/github/hermilomenezes/Algoritmos-e-estrutura-de-dados-IFRN-2024.1-Hermilo-Menezes-/blob/main/10_funcoes.ipynb\" target=\"_parent\"><img src=\"https://colab.research.google.com/assets/colab-badge.svg\" alt=\"Open In Colab\"/></a>"
      ]
    },
    {
      "cell_type": "code",
      "execution_count": null,
      "metadata": {
        "colab": {
          "base_uri": "https://localhost:8080/"
        },
        "id": "GHK8qTTMeqgH",
        "outputId": "11c2950e-6486-414a-a056-612bdc772636"
      },
      "outputs": [
        {
          "output_type": "stream",
          "name": "stdout",
          "text": [
            "True\n",
            "False\n"
          ]
        }
      ],
      "source": [
        "#função de retorno par\n",
        "def epar(num):\n",
        "    if num % 2 == 0:\n",
        "        return True\n",
        "    else:\n",
        "        return False\n",
        "\n",
        "print(epar(4))\n",
        "print(epar(3))"
      ]
    },
    {
      "cell_type": "code",
      "source": [
        "#funcção para verificar se um número é primo\n",
        "def primo(num):\n",
        "    for i in range(2, num):\n",
        "        if num % i == 0:\n",
        "            return False\n",
        "    return True\n",
        "\n",
        "#print(primo(4))\n",
        "#print(primo(5))\n",
        "valor = int(input(\"Digite um número: \"))\n",
        "if primo(valor):\n",
        "    print(\"O número é primo\")\n",
        "else:\n",
        "    print(\"O número não é primo\")"
      ],
      "metadata": {
        "colab": {
          "base_uri": "https://localhost:8080/"
        },
        "id": "VUpgq_CofVBE",
        "outputId": "4a2a3cae-af2d-4b0e-8e91-9ab803384bec"
      },
      "execution_count": null,
      "outputs": [
        {
          "output_type": "stream",
          "name": "stdout",
          "text": [
            "False\n",
            "True\n"
          ]
        }
      ]
    },
    {
      "cell_type": "code",
      "source": [
        "#implementar uma função para calcular equações de segundo grau, utilizando a formula de baskára\n",
        "#ax² + bx + c = 0\n",
        "def chitaozinho(a, b, c):\n",
        "  delta = b**2 - 4*a*c\n",
        "\n",
        "  if delta < 0:\n",
        "    print(\"A equação não possui raízes reais\")\n",
        "  elif delta == 0:\n",
        "    x = -b / (2 * a)\n",
        "    print(\"A equação possui apenas uma raiz real:\", x)\n",
        "  else:\n",
        "    x1 = (-b + math.sqrt(delta)) / (2 * a)\n",
        "    x2 = (-b - math.sqrt(delta)) / (2 * a)\n",
        "    print(\"A equação possui duas raízes reais:\", x1, x2)\n",
        "\n",
        "import math\n",
        "a = float(input(\"Digite o valor de a: \"))\n",
        "b = float(input(\"Digite o valor de b: \"))\n",
        "c = float(input(\"Digite o valor de c: \"))\n",
        "\n",
        "chitaozinho(a, b, c)\n",
        "\n",
        "\n"
      ],
      "metadata": {
        "id": "8TV5xONuWZa0"
      },
      "execution_count": null,
      "outputs": []
    }
  ]
}