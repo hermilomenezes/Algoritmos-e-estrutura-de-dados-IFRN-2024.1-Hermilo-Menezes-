{
  "nbformat": 4,
  "nbformat_minor": 0,
  "metadata": {
    "colab": {
      "provenance": [],
      "authorship_tag": "ABX9TyPSDvSqMwAtju8V5it+Tbmc",
      "include_colab_link": true
    },
    "kernelspec": {
      "name": "python3",
      "display_name": "Python 3"
    },
    "language_info": {
      "name": "python"
    }
  },
  "cells": [
    {
      "cell_type": "markdown",
      "metadata": {
        "id": "view-in-github",
        "colab_type": "text"
      },
      "source": [
        "<a href=\"https://colab.research.google.com/github/hermilomenezes/Algoritmos-e-estrutura-de-dados-IFRN-2024.1-Hermilo-Menezes-/blob/main/Trabalho_Final_Residuos.ipynb\" target=\"_parent\"><img src=\"https://colab.research.google.com/assets/colab-badge.svg\" alt=\"Open In Colab\"/></a>"
      ]
    },
    {
      "cell_type": "code",
      "execution_count": null,
      "metadata": {
        "colab": {
          "base_uri": "https://localhost:8080/"
        },
        "id": "FmJ3KEQOjesL",
        "outputId": "0bed8cd9-3e92-42ab-c179-0fe3e11a34ae"
      },
      "outputs": [
        {
          "name": "stdout",
          "output_type": "stream",
          "text": [
            "Olá, qual o seu nome? (por favor use um nome verdadeiro, será importante na análise dos dados posteriormente) : Pedro\n"
          ]
        }
      ],
      "source": [
        "bairros_leste_natal = ['santos reis', 'rocas', 'ribeira', 'praia do meio', 'cidade alta', 'petrópolis', 'areia preta', 'mãe luiza', 'alecrim', 'barro vermelho', 'tirol', 'lagoa Seca']\n",
        "\n",
        "while True:\n",
        "  lix1 = input('Olá, qual o seu nome? (por favor use um nome verdadeiro, será importante na análise dos dados posteriormente) : ')\n",
        "  if lix1.isalpha():\n",
        "    break\n",
        "  else:\n",
        "    print('Digite um nome válido')\n",
        "\n",
        "while True:\n",
        "  lix2 = input('Em que bairro da região leste de Natal-RN o Sr.(a) mora? ').strip().lower()\n",
        "  if lix2 in bairros_leste_natal:\n",
        "    print(f'Ótimo bairro')\n",
        "    break\n",
        "  else:\n",
        "    print('Digite um bairro válido.')\n",
        "    break\n",
        "while True:\n",
        "  lix3 = input('Qual o nome da rua? (Por favor, informar somente ruas dos bairros da região Leste de Natal-RN) ')\n",
        "\n",
        "  lix4 = input('Poderia responder algumas perguntas para utilizarmos as informações na otimização do sistema de coleta em sua localidade? (Sim/Não) ').strip().lower()\n",
        "\n",
        "  if lix4 == 'não':\n",
        "    print('Ok, programa encerrado.')\n",
        "    break\n",
        "  elif lix4 == 'sim':\n",
        "    break\n",
        "\n",
        "while True:\n",
        "  lix5 = int(input('Quantas sacolas de lixo são utilizadas diariamente em sua residência? '))\n",
        "  if lix5 < 1:\n",
        "    print('Digite um valor maior ou igual a 1.')\n",
        "  else:\n",
        "    break\n",
        "\n",
        "while True:\n",
        "  print('Sobre o tipo de sacola utilizada responda a seguir ')\n",
        "  sac1 = int(input('Quantas sacolas pequenas de supermercado? '))\n",
        "  sac2 = int(input('Quantas sacolas grande de supermercado? '))\n",
        "  sac3 = int(input('Quantas sacolas de 20 litros? '))\n",
        "  sac4 = int(input('Quantas sacolas de 40 litros? '))\n",
        "  sac5 = int(input('Quantas sacolas de 60 litros? '))\n",
        "  sac6 = int(input('Quantas sacolas de 100 litros? '))\n",
        "  break"
      ]
    },
    {
      "cell_type": "code",
      "source": [
        "while True:\n",
        "  lix3 = input('Qual o nome da rua? (Por favor, informar somente ruas dos bairros da região Leste de Natal-RN) ')\n",
        "\n",
        "  lix4 = input('Poderia responder algumas perguntas para utilizarmos as informações na otimização do sistema de coleta em sua localidade? (Sim/Não) ').strip().lower()\n",
        "\n",
        "  if lix4 == 'não':\n",
        "    print('Ok, programa encerrado.')\n",
        "    break\n",
        "  elif lix4 == 'sim':\n",
        "    break\n",
        "\n",
        "while True:\n",
        "  lix5 = int(input('Quantas sacolas de lixo são utilizadas diariamente em sua residência? '))\n",
        "  if lix5 < 1:\n",
        "    print('Digite um valor maior ou igual a 1.')\n",
        "  else:\n",
        "    break\n",
        "\n",
        "while True:\n",
        "  print('Sobre o tipo de sacola utilizada responda a seguir ')\n",
        "  sac1 = int(input('Quantas sacolas pequenas de supermercado? '))\n",
        "  sac2 = int(input('Quantas sacolas grande de supermercado? '))\n",
        "  sac3 = int(input('Quantas sacolas de 20 litros? '))\n",
        "  sac4 = int(input('Quantas sacolas de 40 litros? '))\n",
        "  sac5 = int(input('Quantas sacolas de 60 litros? '))\n",
        "  sac6 = int(input('Quantas sacolas de 100 litros? '))\n",
        "  break"
      ],
      "metadata": {
        "id": "Clki-QJrkLBQ"
      },
      "execution_count": null,
      "outputs": []
    }
  ]
}