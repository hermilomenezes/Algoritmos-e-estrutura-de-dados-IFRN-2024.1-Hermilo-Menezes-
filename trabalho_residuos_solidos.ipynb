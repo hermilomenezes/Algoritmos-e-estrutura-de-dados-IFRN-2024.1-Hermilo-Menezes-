{
  "nbformat": 4,
  "nbformat_minor": 0,
  "metadata": {
    "colab": {
      "provenance": [],
      "authorship_tag": "ABX9TyOsDDgSjvF4A+dz/5UvGC7q",
      "include_colab_link": true
    },
    "kernelspec": {
      "name": "python3",
      "display_name": "Python 3"
    },
    "language_info": {
      "name": "python"
    }
  },
  "cells": [
    {
      "cell_type": "markdown",
      "metadata": {
        "id": "view-in-github",
        "colab_type": "text"
      },
      "source": [
        "<a href=\"https://colab.research.google.com/github/hermilomenezes/Algoritmos-e-estrutura-de-dados-IFRN-2024.1-Hermilo-Menezes-/blob/main/trabalho_residuos_solidos.ipynb\" target=\"_parent\"><img src=\"https://colab.research.google.com/assets/colab-badge.svg\" alt=\"Open In Colab\"/></a>"
      ]
    },
    {
      "cell_type": "code",
      "execution_count": null,
      "metadata": {
        "id": "MNRjwdut9jZK",
        "colab": {
          "base_uri": "https://localhost:8080/"
        },
        "outputId": "d6262ec1-0edb-45d8-8caf-eb86e12a3d27"
      },
      "outputs": [
        {
          "output_type": "stream",
          "name": "stdout",
          "text": [
            "Olá, qual o seu nome? (por favor use um nome verdadeiro, será importante na análise dos dados posteriormente) : 0\n",
            "Digite um nome válido\n"
          ]
        }
      ],
      "source": [
        "bairros_leste_natal = ['santos reis', 'rocas', 'ribeira', 'praia do meio', 'cidade alta', 'petrópolis', 'areia preta', 'mãe luiza', 'alecrim', 'barro vermelho', 'tirol', 'lagoa Seca']\n",
        "\n",
        "while True:\n",
        "    lix1 = input('Olá, qual o seu nome? (por favor use um nome verdadeiro, será importante na análise dos dados posteriormente) : ')\n",
        "    if lix1.isalpha():\n",
        "        break\n",
        "    else:\n",
        "        print('Digite um nome válido')\n",
        "\n",
        "        while True:\n",
        "          lix2 = input('Em que bairro da região leste de Natal-RN o Sr.(a) mora? ').strip().lower()\n",
        "          if lix2 in bairros_leste_natal:\n",
        "            print(f'Ótimo bairro')\n",
        "            break\n",
        "          else:\n",
        "            print('Digite um bairro válido.')\n",
        "\n",
        "          while True:\n",
        "            lix3 = input('Qual o nome da rua? (Por favor, informar somente ruas dos bairros da região Leste de Natal-RN) ')\n",
        "            lix4 = input('Poderia responder algumas perguntas para utilizarmos as informações na otimização do sistema de coleta em sua localidade? (Sim/Não) ').strip().lower()\n",
        "\n",
        "            if lix4 == 'não':\n",
        "              print('Ok, programa encerrado.')\n",
        "              break\n",
        "            elif lix4 == 'sim':\n",
        "              while True:\n",
        "\n",
        "                    lix5 = int(input('Quantas sacolas de lixo são utilizadas diariamente em sua residência? '))\n",
        "                    if lix5 < 1:\n",
        "                      print('Digite um valor maior ou igual a 1.')\n",
        "                    else:\n",
        "                      break\n",
        "                    elif lix5 < 1:\n",
        "                    print('Por favor, digite um número válido.')\n",
        "\n",
        "            while True:\n",
        "\n",
        "                  print('Sobre o tipo de sacola utilizada responda a seguir ')\n",
        "                  sac1 = int(input('Quantas sacolas pequenas de supermercado? '))\n",
        "                  sac2 = int(input('Quantas sacolas grande de supermercado? '))\n",
        "                  sac3 = int(input('Quantas sacolas de 20 litros? '))\n",
        "                  sac4 = int(input('Quantas sacolas de 40 litros? '))\n",
        "                  sac5 = int(input('Quantas sacolas de 60 litros? '))\n",
        "                  sac6 = int(input('Quantas sacolas de 100 litros? '))\n",
        "\n",
        "                if sac1 < 0:\n",
        "                    print('Digite um valor maior ou igual a 0.')\n",
        "                else:\n",
        "                    break\n",
        "              except ValueError:\n",
        "                print('Por favor, digite um número válido.')\n",
        "\n",
        "        lix8 = input('Há problemas quanto ao acúmulo de lixo em sua rua? (Sim/Não) ').strip().lower()\n",
        "        if lix8 == 'não':\n",
        "          print('Ok, obrigado por responder o questionário. Programa encerrado.')\n",
        "          break\n",
        "        elif lix8 == 'sim':\n",
        "            while True:\n",
        "                  lix9 = input('Por favor em poucas palavras diga quais os problemas mais recorrentes que envolvam a coleta de lixo:')\n",
        "                  lix10 = input('Os moradores em sua residência sabem o dia e a previsão de horário que o caminhão de coleta passa? (Sim/Não) ').strip().lower()\n",
        "                  print('Obrigado pelas suas respostas!')\n",
        "                  break\n",
        "\n"
      ]
    },
    {
      "cell_type": "markdown",
      "source": [
        "consertar erros de identação."
      ],
      "metadata": {
        "id": "fHEKML5_uCN3"
      }
    }
  ]
}