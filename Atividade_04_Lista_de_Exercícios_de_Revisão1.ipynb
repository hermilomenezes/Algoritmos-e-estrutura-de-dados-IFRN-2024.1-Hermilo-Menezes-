{
  "nbformat": 4,
  "nbformat_minor": 0,
  "metadata": {
    "colab": {
      "provenance": [],
      "authorship_tag": "ABX9TyPakLfWhosbkBxNYo580Son",
      "include_colab_link": true
    },
    "kernelspec": {
      "name": "python3",
      "display_name": "Python 3"
    },
    "language_info": {
      "name": "python"
    }
  },
  "cells": [
    {
      "cell_type": "markdown",
      "metadata": {
        "id": "view-in-github",
        "colab_type": "text"
      },
      "source": [
        "<a href=\"https://colab.research.google.com/github/hermilomenezes/Algoritmos-e-estrutura-de-dados-IFRN-2024.1-Hermilo-Menezes-/blob/main/Atividade_04_Lista_de_Exerc%C3%ADcios_de_Revis%C3%A3o1.ipynb\" target=\"_parent\"><img src=\"https://colab.research.google.com/assets/colab-badge.svg\" alt=\"Open In Colab\"/></a>"
      ]
    },
    {
      "cell_type": "code",
      "execution_count": null,
      "metadata": {
        "id": "AcAKaV32gETA"
      },
      "outputs": [],
      "source": []
    },
    {
      "cell_type": "markdown",
      "source": [
        "  Questão 1."
      ],
      "metadata": {
        "id": "qTKMIZ7NgHzm"
      }
    },
    {
      "cell_type": "code",
      "source": [
        "print('Olá mundo!')"
      ],
      "metadata": {
        "colab": {
          "base_uri": "https://localhost:8080/"
        },
        "id": "8xwizo5YgMvm",
        "outputId": "2d5ae262-0441-448b-80e2-1aa77d9af620"
      },
      "execution_count": 1,
      "outputs": [
        {
          "output_type": "stream",
          "name": "stdout",
          "text": [
            "Olá mundo!\n"
          ]
        }
      ]
    },
    {
      "cell_type": "markdown",
      "source": [
        "Questão 2.\n"
      ],
      "metadata": {
        "id": "_lQ3nUxcgYK5"
      }
    },
    {
      "cell_type": "code",
      "source": [
        "# Função para calcular a média das notas\n",
        "def calcular_media(nota1, nota2, nota3):\n",
        "    media = (nota1 + nota2 + nota3) / 3\n",
        "    return media\n",
        "\n",
        "# Função principal do programa\n",
        "def main():\n",
        "    # Solicitar ao usuário para inserir as três notas\n",
        "    nota1 = float(input(\"Digite a primeira nota: \"))\n",
        "    nota2 = float(input(\"Digite a segunda nota: \"))\n",
        "    nota3 = float(input(\"Digite a terceira nota: \"))\n",
        "\n",
        "    # Calcular a média das notas\n",
        "    media = calcular_media(nota1, nota2, nota3)\n",
        "\n",
        "    # Exibir a média das notas\n",
        "    print(f\"A média final do aluno é: {media:.2f}\")\n",
        "\n",
        "# Executar o programa principal\n",
        "if __name__ == \"__main__\":\n",
        "    main()\n"
      ],
      "metadata": {
        "colab": {
          "base_uri": "https://localhost:8080/"
        },
        "id": "ndhj9g9wg3ku",
        "outputId": "9921deb7-58de-40d2-e85e-0ab08d05c733"
      },
      "execution_count": 3,
      "outputs": [
        {
          "output_type": "stream",
          "name": "stdout",
          "text": [
            "Digite a primeira nota: 6\n",
            "Digite a segunda nota: 5\n",
            "Digite a terceira nota: 7\n",
            "A média final do aluno é: 6.00\n"
          ]
        }
      ]
    },
    {
      "cell_type": "markdown",
      "source": [
        "Questão 3."
      ],
      "metadata": {
        "id": "PjsDFp-Ghu4Y"
      }
    },
    {
      "cell_type": "code",
      "source": [
        "def calcular_media(notas):\n",
        "    total = sum(notas)\n",
        "    media = total / len(notas)\n",
        "    return media\n",
        "\n",
        "def main():\n",
        "    notas = []\n",
        "\n",
        "    while True:\n",
        "        try:\n",
        "            nota = float(input(\"Digite uma nota (ou digite qualquer letra para parar): \"))\n",
        "            notas.append(nota)\n",
        "        except ValueError:\n",
        "            break  # Se o usuário digitar uma letra ou outro caractere, encerra o loop\n",
        "\n",
        "    if notas:  # Verifica se há notas para calcular a média\n",
        "        media = calcular_media(notas)\n",
        "        print(f\"A média das notas é: {media:.2f}\")\n",
        "    else:\n",
        "        print(\"Nenhuma nota foi inserida.\")\n",
        "\n",
        "if __name__ == \"__main__\":\n",
        "    main()\n"
      ],
      "metadata": {
        "colab": {
          "base_uri": "https://localhost:8080/"
        },
        "id": "hX1vz63yh1w3",
        "outputId": "76351d78-57e0-4cf7-f7d7-2fe850a2ec37"
      },
      "execution_count": 4,
      "outputs": [
        {
          "output_type": "stream",
          "name": "stdout",
          "text": [
            "Digite uma nota (ou digite qualquer letra para parar): 7\n",
            "Digite uma nota (ou digite qualquer letra para parar): 8\n",
            "Digite uma nota (ou digite qualquer letra para parar): 6\n",
            "Digite uma nota (ou digite qualquer letra para parar): h\n",
            "A média das notas é: 7.00\n"
          ]
        }
      ]
    },
    {
      "cell_type": "markdown",
      "source": [
        "Questão 4."
      ],
      "metadata": {
        "id": "kG6Axa8Kj-r2"
      }
    },
    {
      "cell_type": "code",
      "source": [
        "def encontrar_maior(num1, num2, num3):\n",
        "    # Inicialmente, consideramos num1 como o maior número\n",
        "    maior = num1\n",
        "\n",
        "    # Verificamos se num2 é maior que o atual maior número\n",
        "    if num2 > maior:\n",
        "        maior = num2\n",
        "\n",
        "    # Verificamos se num3 é maior que o atual maior número\n",
        "    if num3 > maior:\n",
        "        maior = num3\n",
        "\n",
        "    return maior\n",
        "\n",
        "def main():\n",
        "    # Solicitar ao usuário para inserir os três números\n",
        "    num1 = float(input(\"Digite o primeiro número: \"))\n",
        "    num2 = float(input(\"Digite o segundo número: \"))\n",
        "    num3 = float(input(\"Digite o terceiro número: \"))\n",
        "\n",
        "    # Encontrar o maior número utilizando a função encontrar_maior\n",
        "    maior_numero = encontrar_maior(num1, num2, num3)\n",
        "\n",
        "    # Exibir o resultado\n",
        "    print(f\"O maior número é: {maior_numero}\")\n",
        "\n",
        "if __name__ == \"__main__\":\n",
        "    main()\n"
      ],
      "metadata": {
        "colab": {
          "base_uri": "https://localhost:8080/"
        },
        "id": "8u6XqpMLkCAe",
        "outputId": "04c193d5-9bee-4bd5-e6e6-6d0f81313eb0"
      },
      "execution_count": 5,
      "outputs": [
        {
          "output_type": "stream",
          "name": "stdout",
          "text": [
            "Digite o primeiro número: 7\n",
            "Digite o segundo número: 5\n",
            "Digite o terceiro número: 9\n",
            "O maior número é: 9.0\n"
          ]
        }
      ]
    },
    {
      "cell_type": "markdown",
      "source": [
        "Questão 5."
      ],
      "metadata": {
        "id": "t9U984z-kZZc"
      }
    },
    {
      "cell_type": "code",
      "source": [
        "import random  # Importar a biblioteca random para gerar valores aleatórios\n",
        "\n",
        "def verificar_qualidade_agua():\n",
        "    # Simular a leitura de qualidade da água\n",
        "    return random.randint(0, 100)  # Retorna um valor aleatório entre 0 e 100\n",
        "\n",
        "def main():\n",
        "    limite_inferior = 40  # Limite inferior da qualidade aceitável\n",
        "    limite_superior = 80  # Limite superior da qualidade aceitável\n",
        "\n",
        "    while True:\n",
        "        qualidade = verificar_qualidade_agua()\n",
        "        print(f\"Qualidade da água: {qualidade}\")\n",
        "\n",
        "        if qualidade < limite_inferior:\n",
        "            print(\"ALERTA: Qualidade da água abaixo do limite inferior!\")\n",
        "        elif qualidade > limite_superior:\n",
        "            print(\"ALERTA: Qualidade da água acima do limite superior!\")\n",
        "\n",
        "        # Espera um tempo antes de verificar novamente (simulação)\n",
        "        input(\"Pressione Enter para verificar novamente...\")  # Pausa o programa até o Enter ser pressionado\n",
        "\n",
        "if __name__ == \"__main__\":\n",
        "    main()\n"
      ],
      "metadata": {
        "colab": {
          "base_uri": "https://localhost:8080/"
        },
        "id": "cK1YsaxTkcUb",
        "outputId": "83efebcf-ffeb-4904-f014-baf8d4463585"
      },
      "execution_count": null,
      "outputs": [
        {
          "output_type": "stream",
          "name": "stdout",
          "text": [
            "Qualidade da água: 26\n",
            "ALERTA: Qualidade da água abaixo do limite inferior!\n"
          ]
        }
      ]
    },
    {
      "cell_type": "markdown",
      "source": [
        "Questão 6."
      ],
      "metadata": {
        "id": "14Q2TEmDkqn7"
      }
    },
    {
      "cell_type": "code",
      "source": [
        "def main():\n",
        "    # Inicializando variáveis\n",
        "    numero = 1\n",
        "    soma = 0\n",
        "\n",
        "    # Loop while para calcular a soma dos números de 1 a 100\n",
        "    while numero <= 100:\n",
        "        soma += numero  # Adiciona o valor de numero à soma\n",
        "        numero += 1     # Incrementa o número para o próximo na sequência\n",
        "\n",
        "    # Após o loop, exibe o resultado da soma\n",
        "    print(f\"A soma dos números de 1 a 100 é: {soma}\")\n",
        "\n",
        "if __name__ == \"__main__\":\n",
        "    main()\n"
      ],
      "metadata": {
        "id": "q_qD3XiJksmK"
      },
      "execution_count": null,
      "outputs": []
    },
    {
      "cell_type": "markdown",
      "source": [],
      "metadata": {
        "id": "xEG2ymiYl8uJ"
      }
    },
    {
      "cell_type": "markdown",
      "source": [
        "Questão 7."
      ],
      "metadata": {
        "id": "gAouweKIla4T"
      }
    },
    {
      "cell_type": "code",
      "source": [
        "def main():\n",
        "    # Utilizando um loop for para iterar de 1 a 50\n",
        "    for num in range(1, 51):\n",
        "        if num % 2 != 0:  # Verifica se o número é ímpar\n",
        "            print(num)\n",
        "\n",
        "if __name__ == \"__main__\":\n",
        "    main()\n"
      ],
      "metadata": {
        "id": "HRKnyjk8ldxv"
      },
      "execution_count": null,
      "outputs": []
    },
    {
      "cell_type": "markdown",
      "source": [],
      "metadata": {
        "id": "AwFMa6QngHEn"
      }
    },
    {
      "cell_type": "markdown",
      "source": [
        "Questão 8."
      ],
      "metadata": {
        "id": "aSJ4OZvtl-5h"
      }
    },
    {
      "cell_type": "code",
      "source": [
        "def operacoes_com_listas():\n",
        "    # Criando uma lista inicial de números\n",
        "    numeros = [1, 2, 3, 4, 5]\n",
        "    print(\"Lista inicial de números:\", numeros)\n",
        "\n",
        "    # Adicionando um novo número ao final da lista\n",
        "    numeros.append(6)\n",
        "    print(\"Lista após adicionar o número 6:\", numeros)\n",
        "\n",
        "    # Removendo o número 3 da lista\n",
        "    numeros.remove(3)\n",
        "    print(\"Lista após remover o número 3:\", numeros)\n",
        "\n",
        "    # Acessando o elemento de índice 2\n",
        "    elemento = numeros[2]\n",
        "    print(\"Elemento de índice 2:\", elemento)\n",
        "\n",
        "def operacoes_com_dicionarios():\n",
        "    # Criando um dicionário com informações de alunos\n",
        "    aluno1 = {'nome': 'Ana', 'idade': 25, 'curso': 'Engenharia'}\n",
        "    aluno2 = {'nome': 'Carlos', 'idade': 22, 'curso': 'Administração'}\n",
        "\n",
        "    print(\"\\nInformações do aluno1:\", aluno1)\n",
        "    print(\"Informações do aluno2:\", aluno2)\n",
        "\n",
        "    # Acessando o nome do aluno1\n",
        "    nome_aluno1 = aluno1['nome']\n",
        "    print(\"Nome do aluno1:\", nome_aluno1)\n",
        "\n",
        "    # Adicionando uma nova chave-valor ao dicionário do aluno2\n",
        "    aluno2['nota_final'] = 85\n",
        "    print(\"Informações do aluno2 com nota final:\", aluno2)\n",
        "\n",
        "def main():\n",
        "    print(\"Operações com listas:\")\n",
        "    operacoes_com_listas()\n",
        "\n",
        "    print(\"\\nOperações com dicionários:\")\n",
        "    operacoes_com_dicionarios()\n",
        "\n",
        "if __name__ == \"__main__\":\n",
        "    main()\n"
      ],
      "metadata": {
        "id": "IadT8Nh3mBRf"
      },
      "execution_count": null,
      "outputs": []
    }
  ]
}