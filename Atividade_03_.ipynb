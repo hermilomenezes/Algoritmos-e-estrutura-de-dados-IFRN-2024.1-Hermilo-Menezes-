{
  "nbformat": 4,
  "nbformat_minor": 0,
  "metadata": {
    "colab": {
      "provenance": [],
      "authorship_tag": "ABX9TyM+opez1bFYkN9rhNQVbudZ",
      "include_colab_link": true
    },
    "kernelspec": {
      "name": "python3",
      "display_name": "Python 3"
    },
    "language_info": {
      "name": "python"
    }
  },
  "cells": [
    {
      "cell_type": "markdown",
      "metadata": {
        "id": "view-in-github",
        "colab_type": "text"
      },
      "source": [
        "<a href=\"https://colab.research.google.com/github/hermilomenezes/Algoritmos-e-estrutura-de-dados-IFRN-2024.1-Hermilo-Menezes-/blob/main/Atividade_03_.ipynb\" target=\"_parent\"><img src=\"https://colab.research.google.com/assets/colab-badge.svg\" alt=\"Open In Colab\"/></a>"
      ]
    },
    {
      "cell_type": "markdown",
      "source": [],
      "metadata": {
        "id": "0SxQMc2R8wZJ"
      }
    },
    {
      "cell_type": "markdown",
      "source": [
        "Q.1 Calculadora de IMC Índice de Massa Corporal"
      ],
      "metadata": {
        "id": "KKbdLhL081Ui"
      }
    },
    {
      "cell_type": "code",
      "source": [
        "# Solicite ao usuário seu peso e altura\n",
        "peso = float(input(\"Digite seu peso em kg: \"))\n",
        "altura = float(input(\"Digite sua altura em metros: \"))\n",
        "\n",
        "# Calcule o IMC = O peso dividido pela altura ao quadrado\n",
        "imc = peso / (altura * altura)\n",
        "\n",
        "# Classifique o IMC\n",
        "if imc < 18.5:\n",
        "    classificacao = \"Baixo peso\"\n",
        "elif 18.5 <= imc < 25:\n",
        "    classificacao = \"Peso normal\"\n",
        "elif 25 <= imc < 30:\n",
        "    classificacao = \"Sobrepeso\"\n",
        "else:\n",
        "    classificacao = \"Obesidade\"\n",
        "\n",
        "# Exiba o resultado\n",
        "print(f\"Seu IMC é {imc:.2f}, o que é classificado como {classificacao}.\")\n"
      ],
      "metadata": {
        "colab": {
          "base_uri": "https://localhost:8080/"
        },
        "id": "86cCeak293cY",
        "outputId": "baa54123-e3dc-4eef-a2d9-cc2858b3089d"
      },
      "execution_count": 3,
      "outputs": [
        {
          "output_type": "stream",
          "name": "stdout",
          "text": [
            "Digite seu peso em kg: 75\n",
            "Digite sua altura em metros: 1.75\n",
            "Seu IMC é 24.49, o que é classificado como Peso normal.\n"
          ]
        }
      ]
    },
    {
      "cell_type": "markdown",
      "source": [
        "Q.2 Verificador de Número Par ou Ímpar"
      ],
      "metadata": {
        "id": "XE3MU5M9_q-A"
      }
    },
    {
      "cell_type": "code",
      "source": [
        "# Solicitar um número inteiro do usuário\n",
        "numero = int(input(\"Digite um número inteiro: \"))\n",
        "\n",
        "# Verificar se o número é par ou ímpar\n",
        "if numero % 2 == 0:\n",
        "    # Exibir uma mensagem se o número for par\n",
        "    print(f\"O número {numero} é par.\")\n",
        "else:\n",
        "    # Exibir uma mensagem se o número for ímpar\n",
        "    print(f\"O número {numero} é ímpar.\")\n"
      ],
      "metadata": {
        "colab": {
          "base_uri": "https://localhost:8080/"
        },
        "id": "j0T-vonn_2K5",
        "outputId": "dad2274e-4203-439a-c6b7-a21cbf33091d"
      },
      "execution_count": 4,
      "outputs": [
        {
          "output_type": "stream",
          "name": "stdout",
          "text": [
            "Digite um número inteiro: 3\n",
            "O número 3 é ímpar.\n"
          ]
        }
      ]
    },
    {
      "cell_type": "markdown",
      "source": [
        "Q.3 Conversor de Temperatura"
      ],
      "metadata": {
        "id": "95KCpkxlBctS"
      }
    },
    {
      "cell_type": "code",
      "source": [
        "# Solicitar ao usuário uma temperatura em Celsius\n",
        "celsius = float(input(\"Digite a temperatura em Celsius: \"))\n",
        "\n",
        "# Converter a temperatura para Fahrenheit usando a fórmula F = C * 9/5 + 32\n",
        "fahrenheit = celsius * 9/5 + 32\n",
        "\n",
        "# Exibir o resultado da conversão\n",
        "print(\"A temperatura em Fahrenheit é:\", fahrenheit)\n"
      ],
      "metadata": {
        "colab": {
          "base_uri": "https://localhost:8080/"
        },
        "id": "xCrN3bEqBlWz",
        "outputId": "7c62c2cb-a460-490e-8e0d-96f8f2b7b767"
      },
      "execution_count": 5,
      "outputs": [
        {
          "output_type": "stream",
          "name": "stdout",
          "text": [
            "Digite a temperatura em Celsius: 34\n",
            "A temperatura em Fahrenheit é: 93.2\n"
          ]
        }
      ]
    },
    {
      "cell_type": "markdown",
      "source": [
        "Q.4 Tabuada de Multiplicação\n"
      ],
      "metadata": {
        "id": "S57ClwG1CiKZ"
      }
    },
    {
      "cell_type": "code",
      "source": [
        "# Solicitar ao usuário um número\n",
        "numero = int(input(\"Digite um número: \"))\n",
        "\n",
        "# Exibir a tabuada de multiplicação desse número de 1 a 10\n",
        "print(f\"Tabuada de multiplicação para o número {numero}:\")\n",
        "for i in range(1, 11):\n",
        "    resultado = numero * i\n",
        "    print(f\"{numero} x {i} = {resultado}\")\n"
      ],
      "metadata": {
        "colab": {
          "base_uri": "https://localhost:8080/"
        },
        "id": "Ia6ExAv_Crh3",
        "outputId": "0320bfd0-fab4-4108-83b3-7f75e637170c"
      },
      "execution_count": 6,
      "outputs": [
        {
          "output_type": "stream",
          "name": "stdout",
          "text": [
            "Digite um número: 7\n",
            "Tabuada de multiplicação para o número 7:\n",
            "7 x 1 = 7\n",
            "7 x 2 = 14\n",
            "7 x 3 = 21\n",
            "7 x 4 = 28\n",
            "7 x 5 = 35\n",
            "7 x 6 = 42\n",
            "7 x 7 = 49\n",
            "7 x 8 = 56\n",
            "7 x 9 = 63\n",
            "7 x 10 = 70\n"
          ]
        }
      ]
    },
    {
      "cell_type": "markdown",
      "source": [
        "Q.5 Cálculo de Média Ponderada"
      ],
      "metadata": {
        "id": "jwINs0E0DWvx"
      }
    },
    {
      "cell_type": "code",
      "source": [
        "# Solicitar ao usuário as três notas e seus respectivos pesos\n",
        "nota1 = float(input(\"Digite a primeira nota: \"))\n",
        "peso1 = float(input(\"Digite o peso da primeira nota: \"))\n",
        "nota2 = float(input(\"Digite a segunda nota: \"))\n",
        "peso2 = float(input(\"Digite o peso da segunda nota: \"))\n",
        "nota3 = float(input(\"Digite a terceira nota: \"))\n",
        "peso3 = float(input(\"Digite o peso da terceira nota: \"))\n",
        "\n",
        "# Calcular a média ponderada das notas\n",
        "soma_pesos = peso1 + peso2 + peso3\n",
        "media_ponderada = (nota1 * peso1 + nota2 * peso2 + nota3 * peso3) / soma_pesos\n",
        "\n",
        "# Exibir o resultado da média ponderada\n",
        "print(\"A média ponderada das notas é:\", media_ponderada)\n"
      ],
      "metadata": {
        "colab": {
          "base_uri": "https://localhost:8080/"
        },
        "id": "cSGJyORcDdQj",
        "outputId": "997992a8-b68c-4b2a-aec7-e71cb30e5e1f"
      },
      "execution_count": 7,
      "outputs": [
        {
          "output_type": "stream",
          "name": "stdout",
          "text": [
            "Digite a primeira nota: 6\n",
            "Digite o peso da primeira nota: 2\n",
            "Digite a segunda nota: 7\n",
            "Digite o peso da segunda nota: 1\n",
            "Digite a terceira nota: 8\n",
            "Digite o peso da terceira nota: 3\n",
            "A média ponderada das notas é: 7.166666666666667\n"
          ]
        }
      ]
    },
    {
      "cell_type": "markdown",
      "source": [
        "Q.6 Verificador de Ano Bissexto"
      ],
      "metadata": {
        "id": "-W4BcHtkD5y8"
      }
    },
    {
      "cell_type": "code",
      "source": [
        "# Solicitar ao usuário um ano\n",
        "ano = int(input(\"Digite um ano: \"))\n",
        "\n",
        "# Verificar se o ano é bissexto\n",
        "if ano % 4 == 0 and (ano % 100 != 0 or ano % 400 == 0):\n",
        "    print(\"O ano é bissexto.\")\n",
        "else:\n",
        "    print(\"O ano não é bissexto.\")"
      ],
      "metadata": {
        "colab": {
          "base_uri": "https://localhost:8080/"
        },
        "id": "kHlirCnwEDKB",
        "outputId": "7975983e-2860-4afb-e048-c99c6de6109d"
      },
      "execution_count": 9,
      "outputs": [
        {
          "output_type": "stream",
          "name": "stdout",
          "text": [
            "Digite um ano: 2020\n",
            "O ano é bissexto.\n"
          ]
        }
      ]
    },
    {
      "cell_type": "markdown",
      "source": [
        "Q.7 Contador de Vogais em uma String"
      ],
      "metadata": {
        "id": "at2XCnD1EwAr"
      }
    },
    {
      "cell_type": "code",
      "source": [
        "# Solicitar ao usuário uma string\n",
        "string = input(\"Digite uma frase ou palavra: \")\n",
        "\n",
        "# Inicializar contador de vogais\n",
        "contador_vogais = 0\n",
        "\n",
        "# Verificar cada caractere na string e contar vogais\n",
        "for char in string:\n",
        "    # Verificar se o caractere é uma vogal (considerando letras minúsculas e maiúsculas)\n",
        "    if char.lower() in 'aeiou':\n",
        "        contador_vogais += 1\n",
        "\n",
        "# Exibir o número de vogais na string\n",
        "print(f\"O número de vogais na string é: {contador_vogais}\")\n"
      ],
      "metadata": {
        "colab": {
          "base_uri": "https://localhost:8080/"
        },
        "id": "oyR5_l0WE3pG",
        "outputId": "5aca45e7-ee01-4b72-f4de-f77c01cfa2e2"
      },
      "execution_count": 10,
      "outputs": [
        {
          "output_type": "stream",
          "name": "stdout",
          "text": [
            "Digite uma frase ou palavra: Terra\n",
            "O número de vogais na string é: 2\n"
          ]
        }
      ]
    },
    {
      "cell_type": "markdown",
      "source": [
        "Q.8 Calculadora de Fatorial"
      ],
      "metadata": {
        "id": "wIs2_6ZmFj2j"
      }
    },
    {
      "cell_type": "code",
      "source": [
        "# Solicitar ao usuário um número inteiro positivo\n",
        "numero = int(input(\"Digite um número inteiro positivo: \"))\n",
        "\n",
        "# Verificar se o número é positivo\n",
        "if numero < 0:\n",
        "    print(\"O número deve ser positivo.\")\n",
        "else:\n",
        "    # Inicializar o fatorial como 1\n",
        "    fatorial = 1\n",
        "\n",
        "    # Calcular o fatorial do número\n",
        "    for i in range(1, numero + 1):\n",
        "        fatorial *= i\n",
        "\n",
        "    # Exibir o resultado do fatorial\n",
        "    print(f\"O fatorial de {numero} é: {fatorial}\")\n"
      ],
      "metadata": {
        "colab": {
          "base_uri": "https://localhost:8080/"
        },
        "id": "xzBzhhKKFrfA",
        "outputId": "906b39cc-eddd-4af5-b6f7-d3b77a486784"
      },
      "execution_count": 11,
      "outputs": [
        {
          "output_type": "stream",
          "name": "stdout",
          "text": [
            "Digite um número inteiro positivo: 9\n",
            "O fatorial de 9 é: 362880\n"
          ]
        }
      ]
    },
    {
      "cell_type": "markdown",
      "source": [
        "Q.9 Soma dos Números Pares em um Intervalo"
      ],
      "metadata": {
        "id": "hsiVaqdjGFUi"
      }
    },
    {
      "cell_type": "code",
      "source": [
        "# Solicitar ao usuário dois números inteiros que representam um intervalo\n",
        "inicio = int(input(\"Digite o primeiro número do intervalo: \"))\n",
        "fim = int(input(\"Digite o último número do intervalo: \"))\n",
        "\n",
        "# Inicializar a soma dos números pares\n",
        "soma_pares = 0\n",
        "\n",
        "# Calcular a soma dos números pares dentro do intervalo\n",
        "for num in range(inicio, fim + 1):\n",
        "    if num % 2 == 0:\n",
        "        soma_pares += num\n",
        "\n",
        "# Exibir a soma dos números pares dentro do intervalo\n",
        "print(f\"A soma dos números pares de {inicio} a {fim} é: {soma_pares}\")\n"
      ],
      "metadata": {
        "colab": {
          "base_uri": "https://localhost:8080/"
        },
        "id": "7GkSbLBEGNGG",
        "outputId": "6a4b3e9b-70a9-4720-9950-3937e33ad2a8"
      },
      "execution_count": 12,
      "outputs": [
        {
          "output_type": "stream",
          "name": "stdout",
          "text": [
            "Digite o primeiro número do intervalo: 8\n",
            "Digite o último número do intervalo: 10\n",
            "A soma dos números pares de 8 a 10 é: 18\n"
          ]
        }
      ]
    },
    {
      "cell_type": "markdown",
      "source": [
        "Q.10 Verificador de Número Primo"
      ],
      "metadata": {
        "id": "xR_xZAF3GtsL"
      }
    },
    {
      "cell_type": "code",
      "source": [
        "# Solicitar ao usuário um número inteiro positivo\n",
        "numero = int(input(\"Digite um número inteiro positivo: \"))\n",
        "\n",
        "# Verificar se o número é primo\n",
        "if numero <= 1:\n",
        "    primo = False\n",
        "else:\n",
        "    primo = True\n",
        "    for i in range(2, int(numero**0.5) + 1):\n",
        "        if numero % i == 0:\n",
        "            primo = False\n",
        "            break\n",
        "\n",
        "# Exibir uma mensagem correspondente\n",
        "if primo:\n",
        "    print(f\"{numero} é um número primo.\")\n",
        "else:\n",
        "    print(f\"{numero} não é um número primo.\")\n"
      ],
      "metadata": {
        "colab": {
          "base_uri": "https://localhost:8080/"
        },
        "id": "uObH5FQOG1Zo",
        "outputId": "82d2a6bb-61dd-4615-c60c-be3eb5d2b388"
      },
      "execution_count": 13,
      "outputs": [
        {
          "output_type": "stream",
          "name": "stdout",
          "text": [
            "Digite um número inteiro positivo: 8\n",
            "8 não é um número primo.\n"
          ]
        }
      ]
    }
  ]
}