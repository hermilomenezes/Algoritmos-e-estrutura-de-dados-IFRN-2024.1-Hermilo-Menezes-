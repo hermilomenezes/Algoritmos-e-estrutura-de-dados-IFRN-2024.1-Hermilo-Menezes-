{
  "nbformat": 4,
  "nbformat_minor": 0,
  "metadata": {
    "colab": {
      "provenance": [],
      "authorship_tag": "ABX9TyOP5dKg4GhjoLkjTR+khILU",
      "include_colab_link": true
    },
    "kernelspec": {
      "name": "python3",
      "display_name": "Python 3"
    },
    "language_info": {
      "name": "python"
    }
  },
  "cells": [
    {
      "cell_type": "markdown",
      "metadata": {
        "id": "view-in-github",
        "colab_type": "text"
      },
      "source": [
        "<a href=\"https://colab.research.google.com/github/hermilomenezes/Algoritmos-e-estrutura-de-dados-IFRN-2024.1-Hermilo-Menezes-/blob/main/aula_dia_31_07_p2.ipynb\" target=\"_parent\"><img src=\"https://colab.research.google.com/assets/colab-badge.svg\" alt=\"Open In Colab\"/></a>"
      ]
    },
    {
      "cell_type": "code",
      "execution_count": 5,
      "metadata": {
        "colab": {
          "base_uri": "https://localhost:8080/"
        },
        "id": "paIhwtuufM5Q",
        "outputId": "dc5af1f0-b77a-4063-d544-ce3e508acf02"
      },
      "outputs": [
        {
          "output_type": "stream",
          "name": "stdout",
          "text": [
            "Familia Revoredo\n",
            "Familia Menezes\n"
          ]
        }
      ],
      "source": [
        "#Considere um edificio com diversas familias e/ou moradores por andar\n",
        "edificio_terreo = \"Familia Revoredo\"\n",
        "edificio_1o_andar = \"Familia Menezes\"\n",
        "edificio_2o_andar = \"Familia Martins\"\n",
        "edificio_3o_andar = \"Familia Pinheiro\"\n",
        "\n",
        "#Como atribuir em localizacoes do vetor, abstraindo o andar\n",
        "edificio = [\n",
        "    edificio_terreo,\n",
        "    edificio_1o_andar,\n",
        "    edificio_2o_andar,\n",
        "    edificio_3o_andar\n",
        "]\n",
        "\n",
        "print(edificio[0])\n",
        "print(edificio[1])"
      ]
    }
  ]
}